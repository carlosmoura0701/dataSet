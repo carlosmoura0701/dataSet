{
 "cells": [
  {
   "cell_type": "code",
   "execution_count": 1,
   "id": "d78787e6-750f-475b-bafe-003d24a50086",
   "metadata": {},
   "outputs": [],
   "source": [
    "import pickle\n",
    "from pathlib import Path\n",
    "from streamlit_option_menu import option_menu\n",
    "import pandas as pd\n",
    "import streamlit as st\n",
    "import streamlit_authenticator as stauth\n",
    "import csv\n",
    "import numpy as numpy\n",
    "import requests\n",
    "import altair as alt\n",
    "from datetime import datetime"
   ]
  },
  {
   "cell_type": "code",
   "execution_count": 3,
   "id": "d5e0763e-c0a6-4957-8ba5-4efaaad72178",
   "metadata": {},
   "outputs": [],
   "source": [
    "menu = ['January','February','March','April','May','June','July','August','Setember','October','November','December']"
   ]
  },
  {
   "cell_type": "code",
   "execution_count": 4,
   "id": "940e7bf1-2ecb-44b4-9be4-1beca914af35",
   "metadata": {},
   "outputs": [
    {
     "data": {
      "text/plain": [
       "['January',\n",
       " 'February',\n",
       " 'March',\n",
       " 'April',\n",
       " 'May',\n",
       " 'June',\n",
       " 'July',\n",
       " 'August',\n",
       " 'Setember',\n",
       " 'October',\n",
       " 'November',\n",
       " 'December']"
      ]
     },
     "execution_count": 4,
     "metadata": {},
     "output_type": "execute_result"
    }
   ],
   "source": [
    "menu"
   ]
  },
  {
   "cell_type": "code",
   "execution_count": null,
   "id": "bada70e6-df20-4ee9-a93d-b562d183d6d2",
   "metadata": {},
   "outputs": [],
   "source": []
  }
 ],
 "metadata": {
  "kernelspec": {
   "display_name": "Python 3 (ipykernel)",
   "language": "python",
   "name": "python3"
  },
  "language_info": {
   "codemirror_mode": {
    "name": "ipython",
    "version": 3
   },
   "file_extension": ".py",
   "mimetype": "text/x-python",
   "name": "python",
   "nbconvert_exporter": "python",
   "pygments_lexer": "ipython3",
   "version": "3.12.1"
  }
 },
 "nbformat": 4,
 "nbformat_minor": 5
}
